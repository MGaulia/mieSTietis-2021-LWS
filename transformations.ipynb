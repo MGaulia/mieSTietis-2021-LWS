{
 "cells": [
  {
   "cell_type": "code",
   "execution_count": 1,
   "id": "f689e34f",
   "metadata": {},
   "outputs": [],
   "source": [
    "import pandas as pd"
   ]
  },
  {
   "cell_type": "markdown",
   "id": "e8bbf975",
   "metadata": {},
   "source": [
    "#### Nuotekos"
   ]
  },
  {
   "cell_type": "code",
   "execution_count": 6,
   "id": "c0f1e750",
   "metadata": {
    "scrolled": true
   },
   "outputs": [],
   "source": [
    "nuotekos = pd.read_csv(\"csv/nuotekos.csv\")\n",
    "nuotekos = nuotekos.replace(\"Klaipėdos m. sav.\", \"Klaipėda\").replace(\"Kauno m. sav.\", \"Kaunas\").replace(\"Vilniaus m. sav.\", \"Vilnius\").replace(\"Panevėžio m. sav.\", \"Panevėžys\").replace(\"Šiaulių m. sav.\", \"Šiauliai\").replace(\"Alytaus m. sav.\", \"Alytus\")\n",
    "nuotekos = nuotekos.drop(['Rodiklis', \"Matavimo vienetai\"], 1)\n",
    "nuotekos = pd.merge(\n",
    "    nuotekos[nuotekos[\"Išvalymas\"] == \"Išleista išvalytų iki normos nuotekų\"],\n",
    "    nuotekos[nuotekos[\"Išvalymas\"] == \"Iš viso išleista nuotekų\"],\n",
    "    on=[\"Administracinė teritorija\", \"Laikotarpis\"])\n",
    "nuotekos[\"y\"] = round(100*nuotekos[\"Reikšmė_x\"]/nuotekos[\"Reikšmė_y\"],2)\n",
    "nuotekos = nuotekos.drop(['Išvalymas_x', \"Išvalymas_y\", \"Reikšmė_x\", \"Reikšmė_y\"], 1)\n",
    "nuotekos = nuotekos.rename({'Laikotarpis': 'x', 'Administracinė teritorija': 'city'}, axis=1)\n",
    "nuotekos.to_csv(\"kpi/nuotekos.csv\", index = False)"
   ]
  },
  {
   "cell_type": "markdown",
   "id": "ac6d8ad6",
   "metadata": {},
   "source": [
    "#### Metalo laužas"
   ]
  },
  {
   "cell_type": "code",
   "execution_count": 7,
   "id": "a93dec39",
   "metadata": {},
   "outputs": [],
   "source": [
    "mlauzas = pd.read_csv(\"csv/metalo_lauzas.csv\")\n",
    "mlauzas = mlauzas[(mlauzas[\"Supirkimo šaltinis\"] == \"Supirkta, iš viso\")]\n",
    "mlauzas = mlauzas.drop(['Rodiklis', \"Matavimo vienetai\", \"Supirkimo šaltinis\"], 1)\n",
    "mlauzas = pd.merge(\n",
    "    mlauzas[mlauzas[\"Metalų laužo rūšis\"] == \"Juodųjų metalų laužas, tūkst. tonų\"],\n",
    "    mlauzas[mlauzas[\"Metalų laužo rūšis\"] == \"Spalvotųjų metalų laužas, tonos\"],\n",
    "    on=[\"Apskritys\", \"Laikotarpis\"])\n",
    "mlauzas[\"y\"] = mlauzas[\"Reikšmė_x\"] + mlauzas[\"Reikšmė_y\"]\n",
    "mlauzas = mlauzas.drop(['Metalų laužo rūšis_x', \"Metalų laužo rūšis_y\", \"Reikšmė_x\", \"Reikšmė_y\"], 1)\n",
    "mlauzas = mlauzas.rename({'Laikotarpis': 'x', 'Apskritys': 'city'}, axis=1)\n",
    "mlauzas.to_csv(\"kpi/mlauzas.csv\", index = False)"
   ]
  }
 ],
 "metadata": {
  "kernelspec": {
   "display_name": "Python 3 (ipykernel)",
   "language": "python",
   "name": "python3"
  },
  "language_info": {
   "codemirror_mode": {
    "name": "ipython",
    "version": 3
   },
   "file_extension": ".py",
   "mimetype": "text/x-python",
   "name": "python",
   "nbconvert_exporter": "python",
   "pygments_lexer": "ipython3",
   "version": "3.8.11"
  }
 },
 "nbformat": 4,
 "nbformat_minor": 5
}
