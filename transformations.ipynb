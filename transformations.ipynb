{
 "cells": [
  {
   "cell_type": "code",
   "execution_count": 46,
   "id": "f689e34f",
   "metadata": {},
   "outputs": [],
   "source": [
    "import pandas as pd"
   ]
  },
  {
   "cell_type": "markdown",
   "id": "e8bbf975",
   "metadata": {},
   "source": [
    "#### Nuotekos"
   ]
  },
  {
   "cell_type": "code",
   "execution_count": 70,
   "id": "c0f1e750",
   "metadata": {
    "scrolled": true
   },
   "outputs": [],
   "source": [
    "nuotekos = pd.read_csv(\"csv/nuotekos.csv\")\n",
    "nuotekos = nuotekos.replace(\"Klaipėdos m. sav.\", \"Klaipėda\").replace(\"Kauno m. sav.\", \"Kaunas\").replace(\"Vilniaus m. sav.\", \"Vilnius\").replace(\"Panevėžio m. sav.\", \"Panevėžys\").replace(\"Šiaulių m. sav.\", \"Šiauliai\").replace(\"Alytaus m. sav.\", \"Alytus\")\n",
    "nuotekos = nuotekos.drop(['Rodiklis', \"Matavimo vienetai\"], 1)\n",
    "nuotekos = pd.merge(\n",
    "    nuotekos[nuotekos[\"Išvalymas\"] == \"Išleista išvalytų iki normos nuotekų\"],\n",
    "    nuotekos[nuotekos[\"Išvalymas\"] == \"Iš viso išleista nuotekų\"],\n",
    "    on=[\"Administracinė teritorija\", \"Laikotarpis\"])\n",
    "nuotekos[\"y\"] = round(100*nuotekos[\"Reikšmė_x\"]/nuotekos[\"Reikšmė_y\"],2)\n",
    "nuotekos = nuotekos.drop(['Išvalymas_x', \"Išvalymas_y\", \"Reikšmė_x\", \"Reikšmė_y\"], 1)\n",
    "nuotekos = nuotekos.rename({'Laikotarpis': 'x', 'Administracinė teritorija': 'city'}, axis=1)\n",
    "nuotekos.to_csv(\"kpi/nuotekos.csv\", index = False)"
   ]
  },
  {
   "cell_type": "markdown",
   "id": "ac6d8ad6",
   "metadata": {},
   "source": [
    "#### Metalo laužas"
   ]
  },
  {
   "cell_type": "code",
   "execution_count": 7,
   "id": "a93dec39",
   "metadata": {},
   "outputs": [],
   "source": [
    "mlauzas = pd.read_csv(\"csv/metalo_lauzas.csv\")\n",
    "mlauzas = mlauzas[(mlauzas[\"Supirkimo šaltinis\"] == \"Supirkta, iš viso\")]\n",
    "mlauzas = mlauzas.drop(['Rodiklis', \"Matavimo vienetai\", \"Supirkimo šaltinis\"], 1)\n",
    "mlauzas = pd.merge(\n",
    "    mlauzas[mlauzas[\"Metalų laužo rūšis\"] == \"Juodųjų metalų laužas, tūkst. tonų\"],\n",
    "    mlauzas[mlauzas[\"Metalų laužo rūšis\"] == \"Spalvotųjų metalų laužas, tonos\"],\n",
    "    on=[\"Apskritys\", \"Laikotarpis\"])\n",
    "mlauzas[\"y\"] = mlauzas[\"Reikšmė_x\"] + mlauzas[\"Reikšmė_y\"]\n",
    "mlauzas = mlauzas.drop(['Metalų laužo rūšis_x', \"Metalų laužo rūšis_y\", \"Reikšmė_x\", \"Reikšmė_y\"], 1)\n",
    "mlauzas = mlauzas.rename({'Laikotarpis': 'x', 'Apskritys': 'city'}, axis=1)\n",
    "mlauzas.to_csv(\"kpi/mlauzas.csv\", index = False)"
   ]
  },
  {
   "cell_type": "code",
   "execution_count": 175,
   "id": "e4b84dbf",
   "metadata": {},
   "outputs": [],
   "source": [
    "cat = pd.read_csv(\"kpi/categories.csv\")\n",
    "weights = [25, 25, 25, 25]\n",
    "\n",
    "cat.iloc[:,[2,3,4,5]] = cat.iloc[:,[2,3,4,5]] * pd.Series(weights,index = cat.columns[[2,3,4,5]]) / 25 * 100 / sum(weights)\n",
    "cat[\"total\"]= cat.iloc[:,[2,3,4,5]].sum(axis=1)\n",
    "\n",
    "vanduo = cat[[\"city\",\"vanduo\",\"x\"]]\n",
    "vanduo = vanduo.rename({'vanduo': 'y'}, axis=1)\n",
    "vanduo.to_csv(\"kpi/vanduo.csv\", index = False)\n",
    "\n",
    "transportas = cat[[\"city\",\"transportas\",\"x\"]]\n",
    "transportas = transportas.rename({'transportas': 'y'}, axis=1)\n",
    "transportas.to_csv(\"kpi/transportas.csv\", index = False)\n",
    "\n",
    "oras = cat[[\"city\",\"oras\",\"x\"]]\n",
    "oras = oras.rename({'oras': 'y'}, axis=1)\n",
    "oras.to_csv(\"kpi/oras.csv\", index = False)\n",
    "\n",
    "siuksles = cat[[\"city\",\"šiukšles\",\"x\"]]\n",
    "siuksles = siuksles.rename({'šiukšles': 'y'}, axis=1)\n",
    "siuksles = siuksles[siuksles[\"x\"] < 2020]\n",
    "siuksles.to_csv(\"kpi/siuksles.csv\", index = False)\n",
    "\n",
    "total = cat[[\"city\",\"total\",\"x\"]]\n",
    "total = total.rename({'total': 'y'}, axis=1)\n",
    "total.to_csv(\"kpi/total.csv\", index = False)"
   ]
  },
  {
   "cell_type": "markdown",
   "id": "ed55c671",
   "metadata": {},
   "source": [
    "#### KPI"
   ]
  },
  {
   "cell_type": "code",
   "execution_count": 189,
   "id": "6a824401",
   "metadata": {},
   "outputs": [],
   "source": [
    "total = pd.read_csv(\"kpi/categories.csv\")\n",
    "kpi = total[[\"x\",\"city\",\"total\"]]\n",
    "kpi = kpi.rename({'total': 'y'}, axis=1)\n",
    "kpi.to_csv(\"kpi/kpi.csv\", index = False)"
   ]
  },
  {
   "cell_type": "markdown",
   "id": "1368c16c",
   "metadata": {},
   "source": [
    "#### catbarchart"
   ]
  },
  {
   "cell_type": "code",
   "execution_count": 182,
   "id": "47a06abf",
   "metadata": {},
   "outputs": [],
   "source": [
    "catbar = pd.read_csv(\"kpi/categories.csv\")\n",
    "catbar[\"šiukšles\"] = list(catbar[catbar[\"x\"] == 2019][\"šiukšles\"])*6\n",
    "catbar = catbar[catbar[\"x\"] == 2020]\n",
    "catbar = catbar[[\"city\", \"transportas\", \"vanduo\", \"oras\", \"šiukšles\"]]\n",
    "catbar.to_csv(\"kpi/lycatbar.csv\", index = False)"
   ]
  },
  {
   "cell_type": "markdown",
   "id": "a68f8b7d",
   "metadata": {},
   "source": [
    "#### Indicator scores"
   ]
  },
  {
   "cell_type": "code",
   "execution_count": 115,
   "id": "333fafac",
   "metadata": {},
   "outputs": [
    {
     "data": {
      "text/plain": [
       "{'Šiauliai': [{'kelioniu_kiekis': 7.2},\n",
       "  {'nuotekos': 8.3},\n",
       "  {'oro_tersalai_co': 5.1},\n",
       "  {'oro_tersalai_kietosios': 0.0},\n",
       "  {'oro_tersalai_no': 1.7},\n",
       "  {'siuksles_surinktos': 25.0},\n",
       "  {'vandens_sunaudojimas_buiciai': 0.0},\n",
       "  {'vandens_sunaudojimas_energetikai': 0.0},\n",
       "  {'viesojo_rida': 8.2}],\n",
       " 'Kaunas': [{'kelioniu_kiekis': 7.3},\n",
       "  {'nuotekos': 8.3},\n",
       "  {'oro_tersalai_co': 3.5},\n",
       "  {'oro_tersalai_kietosios': 0.6},\n",
       "  {'oro_tersalai_no': 0.4},\n",
       "  {'siuksles_surinktos': 20.4},\n",
       "  {'vandens_sunaudojimas_buiciai': 0.4},\n",
       "  {'vandens_sunaudojimas_energetikai': 4.5},\n",
       "  {'viesojo_rida': 0.0}],\n",
       " 'Panevėžys': [{'kelioniu_kiekis': 7.2},\n",
       "  {'nuotekos': 8.3},\n",
       "  {'oro_tersalai_co': 8.3},\n",
       "  {'oro_tersalai_kietosios': 8.3},\n",
       "  {'oro_tersalai_no': 3.3},\n",
       "  {'siuksles_surinktos': 19.4},\n",
       "  {'vandens_sunaudojimas_buiciai': 0.1},\n",
       "  {'vandens_sunaudojimas_energetikai': 1.4},\n",
       "  {'viesojo_rida': 7.7}],\n",
       " 'Alytus': [{'kelioniu_kiekis': 12.5},\n",
       "  {'nuotekos': 8.3},\n",
       "  {'oro_tersalai_co': 4.5},\n",
       "  {'oro_tersalai_kietosios': 3.3},\n",
       "  {'oro_tersalai_no': 1.7},\n",
       "  {'siuksles_surinktos': 15.2},\n",
       "  {'vandens_sunaudojimas_buiciai': 0.2},\n",
       "  {'vandens_sunaudojimas_energetikai': 1.4},\n",
       "  {'viesojo_rida': 12.5}],\n",
       " 'Klaipėda': [{'kelioniu_kiekis': 2.8},\n",
       "  {'nuotekos': 1.2},\n",
       "  {'oro_tersalai_co': 7.2},\n",
       "  {'oro_tersalai_kietosios': 6.1},\n",
       "  {'oro_tersalai_no': 8.3},\n",
       "  {'siuksles_surinktos': 20.0},\n",
       "  {'vandens_sunaudojimas_buiciai': 8.3},\n",
       "  {'vandens_sunaudojimas_energetikai': 2.8},\n",
       "  {'viesojo_rida': 5.3}],\n",
       " 'Vilnius': [{'kelioniu_kiekis': 0.0},\n",
       "  {'nuotekos': 0.0},\n",
       "  {'oro_tersalai_co': 0.0},\n",
       "  {'oro_tersalai_kietosios': 0.0},\n",
       "  {'oro_tersalai_no': 0.0},\n",
       "  {'siuksles_surinktos': 0.0},\n",
       "  {'vandens_sunaudojimas_buiciai': 0.2},\n",
       "  {'vandens_sunaudojimas_energetikai': 8.3},\n",
       "  {'viesojo_rida': 5.9}]}"
      ]
     },
     "execution_count": 115,
     "metadata": {},
     "output_type": "execute_result"
    }
   ],
   "source": [
    "iscores = pd.read_csv(\"kpi/indicators_scores.csv\")\n",
    "weights = [25, 25, 25, 25]\n",
    "trans = [2,10]\n",
    "water = [3,8,9]\n",
    "air = [4,5,6]\n",
    "trash = [7]\n",
    "categories = [trans,water,air,trash]\n",
    "for i,j in zip(categories,weights):\n",
    "    iscores.iloc[:,i] = iscores.iloc[:,i] * j / 25 * 100 / sum(weights)\n",
    "iscores[\"siuksles_surinktos\"] = list(iscores[iscores[\"x\"] == 2019][\"siuksles_surinktos\"])*6\n",
    "iscores = iscores[iscores[\"x\"] == 2020]\n",
    "cols = [col for col in iscores.columns if col not in [\"city\",\"x\"]]\n",
    "result = {}\n",
    "for city in iscores.city:\n",
    "    result[city] = [{col:list(iscores[iscores[\"city\"] == city].loc[:,col])[0]} for col in cols]\n",
    "result"
   ]
  },
  {
   "cell_type": "code",
   "execution_count": 4,
   "id": "89d12f99",
   "metadata": {},
   "outputs": [],
   "source": [
    "\n",
    "df = pd.read_csv(\"kpi/categories.csv\")\n",
    "weights = [0.2,0.6,0.3,0.3]\n",
    "df.iloc[:,[2,3,4,5]] = df.iloc[:,[2,3,4,5]] * pd.Series(weights,index = df.columns[[2,3,4,5]]) / 25 * 100 / sum(weights)\n",
    "df[\"total\"]= df.iloc[:,[2,3,4,5]].sum(axis=1)\n",
    "\n",
    "df_ranks = df.copy()\n",
    "df_ranks.iloc[:,2:] = df_ranks.iloc[:,1:].groupby(\"x\").rank(ascending=False)\n",
    "df_ranks = df_ranks[df_ranks[\"x\"] == 2020]\n",
    "df_ranks = df_ranks[[\"city\", \"total\"]]\n",
    "df_ranks = df_ranks.rename({\"total\":\"y\"}, axis = 1)\n",
    "df_ranks.to_csv(\"kpi/totalranks.csv\")"
   ]
  },
  {
   "cell_type": "code",
   "execution_count": null,
   "id": "f9f6982c",
   "metadata": {},
   "outputs": [],
   "source": []
  }
 ],
 "metadata": {
  "kernelspec": {
   "display_name": "Python 3 (ipykernel)",
   "language": "python",
   "name": "python3"
  },
  "language_info": {
   "codemirror_mode": {
    "name": "ipython",
    "version": 3
   },
   "file_extension": ".py",
   "mimetype": "text/x-python",
   "name": "python",
   "nbconvert_exporter": "python",
   "pygments_lexer": "ipython3",
   "version": "3.8.11"
  }
 },
 "nbformat": 4,
 "nbformat_minor": 5
}
